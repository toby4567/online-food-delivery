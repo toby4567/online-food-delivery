{
 "cells": [
  {
   "cell_type": "code",
   "execution_count": 5,
   "metadata": {},
   "outputs": [
    {
     "name": "stdout",
     "output_type": "stream",
     "text": [
      "Order 1:\n",
      "- Pizza: $10\n",
      "- Burger: $8\n",
      "Total: $18\n",
      "---------------------\n"
     ]
    }
   ],
   "source": [
    "class FoodItem:\n",
    "    def __init__(self, name, price):\n",
    "        self.name = name\n",
    "        self.price = price\n",
    "\n",
    "class Order:\n",
    "    def __init__(self):\n",
    "        self.items = []\n",
    "        self.total = 0\n",
    "    \n",
    "    def add_item(self, food_item):\n",
    "        self.items.append(food_item)\n",
    "        self.total += food_item.price\n",
    "    \n",
    "    def remove_item(self, food_item):\n",
    "        if food_item in self.items:\n",
    "            self.items.remove(food_item)\n",
    "            self.total -= food_item.price\n",
    "    \n",
    "    def calculate_total(self):\n",
    "        return self.total\n",
    "\n",
    "class Restaurant:\n",
    "    def __init__(self, name):\n",
    "        self.name = name\n",
    "        self.menu = {}\n",
    "    \n",
    "    def add_item_to_menu(self, food_item):\n",
    "        self.menu[food_item.name] = food_item\n",
    "    \n",
    "    def remove_item_from_menu(self, food_item):\n",
    "        if food_item.name in self.menu:\n",
    "            del self.menu[food_item.name]\n",
    "\n",
    "class DeliveryService:\n",
    "    def __init__(self):\n",
    "        self.orders = []\n",
    "    \n",
    "    def place_order(self, order):\n",
    "        self.orders.append(order)\n",
    "    \n",
    "    def cancel_order(self, order):\n",
    "        if order in self.orders:\n",
    "            self.orders.remove(order)\n",
    "    \n",
    "    def view_orders(self):\n",
    "        for i, order in enumerate(self.orders, start=1):\n",
    "            print(f\"Order {i}:\")\n",
    "            for item in order.items:\n",
    "                print(f\"- {item.name}: ${item.price}\")\n",
    "            print(f\"Total: ${order.calculate_total()}\")\n",
    "            print(\"---------------------\")\n",
    "\n",
    "# Create food items\n",
    "pizza = FoodItem(\"Pizza\", 10)\n",
    "burger = FoodItem(\"Burger\", 8)\n",
    "salad = FoodItem(\"Salad\", 6)\n",
    "\n",
    "# Create a restaurant\n",
    "restaurant = Restaurant(\"Delicious Eats\")\n",
    "restaurant.add_item_to_menu(pizza)\n",
    "restaurant.add_item_to_menu(burger)\n",
    "restaurant.add_item_to_menu(salad)\n",
    "\n",
    "# Create an order\n",
    "order1 = Order()\n",
    "order1.add_item(pizza)\n",
    "order1.add_item(burger)\n",
    "\n",
    "# Create a delivery service\n",
    "delivery_service = DeliveryService()\n",
    "delivery_service.place_order(order1)\n",
    "\n",
    "# View orders\n",
    "delivery_service.view_orders()\n",
    "\n",
    "# Output:\n",
    "# Order 1:\n",
    "# - Pizza: $10\n",
    "# - Burger: $8\n",
    "# Total: $18\n",
    "# ---------------------\n"
   ]
  }
 ],
 "metadata": {
  "kernelspec": {
   "display_name": "Python 3.8.5 ('base')",
   "language": "python",
   "name": "python3"
  },
  "language_info": {
   "codemirror_mode": {
    "name": "ipython",
    "version": 3
   },
   "file_extension": ".py",
   "mimetype": "text/x-python",
   "name": "python",
   "nbconvert_exporter": "python",
   "pygments_lexer": "ipython3",
   "version": "3.8.5"
  },
  "orig_nbformat": 4,
  "vscode": {
   "interpreter": {
    "hash": "5f0ed1bd9cd3e2834557563fd6e7c254c2aa4313b197d6440ccc33984010d6ee"
   }
  }
 },
 "nbformat": 4,
 "nbformat_minor": 2
}
